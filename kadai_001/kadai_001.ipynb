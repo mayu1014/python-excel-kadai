{
  "nbformat": 4,
  "nbformat_minor": 0,
  "metadata": {
    "colab": {
      "provenance": []
    },
    "kernelspec": {
      "name": "python3",
      "display_name": "Python 3"
    },
    "language_info": {
      "name": "python"
    }
  },
  "cells": [
    {
      "cell_type": "code",
      "execution_count": 3,
      "metadata": {
        "colab": {
          "base_uri": "https://localhost:8080/"
        },
        "id": "Ek2MG5NyACTS",
        "outputId": "92e1805f-afee-489d-d6d2-da1c67ef5c2a"
      },
      "outputs": [
        {
          "output_type": "stream",
          "name": "stdout",
          "text": [
            "請求書_20250630.xlsx を作成しました。\n"
          ]
        }
      ],
      "source": [
        "from openpyxl import Workbook\n",
        "from openpyxl.styles import Alignment\n",
        "from datetime import datetime\n",
        "\n",
        "# 現在の日付を取得してファイル名に使用（YYYYMMDD形式）\n",
        "today_str = datetime.today().strftime(\"%Y%m%d\")\n",
        "filename = f\"請求書_{today_str}.xlsx\"\n",
        "\n",
        "# 新しいワークブックを作成\n",
        "wb = Workbook()\n",
        "ws = wb.active\n",
        "\n",
        "# タイトル\n",
        "ws[\"B2\"] = \"請求書\"\n",
        "\n",
        "# 会社情報\n",
        "ws[\"B4\"] = \"株式会社ABC\"\n",
        "ws[\"B5\"] = \"〒101-0022 東京都千代田区神田練塀町300\"\n",
        "ws[\"B6\"] = \"TEL:03-1234-5678 FAX:03-1234-5678\"  # スラッシュなし\n",
        "ws[\"B7\"] = \"担当者名:鈴木一郎 様\"\n",
        "\n",
        "# B8, B9 は空白行\n",
        "\n",
        "# 請求番号と日付\n",
        "ws[\"F4\"] = \"No.\"\n",
        "ws[\"G4\"] = \"0001\"\n",
        "ws[\"F5\"] = \"日付\"\n",
        "ws[\"G5\"] = datetime.today().strftime(\"%Y/%m/%d\")\n",
        "\n",
        "# テーブルヘッダー\n",
        "ws[\"B10\"] = \"商品名\"\n",
        "ws[\"C10\"] = \"数量\"\n",
        "ws[\"D10\"] = \"単価\"\n",
        "ws[\"E10\"] = \"金額\"\n",
        "\n",
        "# 商品明細\n",
        "ws[\"B11\"] = \"商品A\"\n",
        "ws[\"C11\"] = 2\n",
        "ws[\"D11\"] = 10000\n",
        "ws[\"E11\"] = 20000\n",
        "\n",
        "ws[\"B12\"] = \"商品B\"\n",
        "ws[\"C12\"] = 1\n",
        "ws[\"D12\"] = 15000\n",
        "ws[\"E12\"] = 15000\n",
        "\n",
        "# 合計金額のみ（13行目）\n",
        "ws[\"E13\"] = \"=SUM(E11:E12)\"\n",
        "\n",
        "# 14行目は空白\n",
        "\n",
        "# 合計・消費税・税込合計（15〜17行目）\n",
        "ws[\"B15\"] = \"合計\"\n",
        "ws[\"E15\"] = 35000\n",
        "\n",
        "ws[\"B16\"] = \"消費税\"\n",
        "ws[\"E16\"] = 3500\n",
        "\n",
        "ws[\"B17\"] = \"税込合計\"\n",
        "ws[\"E17\"] = 38500\n",
        "\n",
        "\n",
        "# ファイル保存\n",
        "wb.save(filename)\n",
        "print(f\"{filename} を作成しました。\")\n"
      ]
    }
  ]
}