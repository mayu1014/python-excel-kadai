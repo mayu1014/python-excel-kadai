{
  "nbformat": 4,
  "nbformat_minor": 0,
  "metadata": {
    "colab": {
      "provenance": []
    },
    "kernelspec": {
      "name": "python3",
      "display_name": "Python 3"
    },
    "language_info": {
      "name": "python"
    }
  },
  "cells": [
    {
      "cell_type": "code",
      "source": [
        "pip install pandas openpyxl"
      ],
      "metadata": {
        "colab": {
          "base_uri": "https://localhost:8080/"
        },
        "id": "43jje2YNT3R9",
        "outputId": "09561aa9-a4da-46ed-fd13-6efce94e8b7c"
      },
      "execution_count": 3,
      "outputs": [
        {
          "output_type": "stream",
          "name": "stdout",
          "text": [
            "Requirement already satisfied: pandas in /usr/local/lib/python3.11/dist-packages (2.2.2)\n",
            "Requirement already satisfied: openpyxl in /usr/local/lib/python3.11/dist-packages (3.1.5)\n",
            "Requirement already satisfied: numpy>=1.23.2 in /usr/local/lib/python3.11/dist-packages (from pandas) (2.0.2)\n",
            "Requirement already satisfied: python-dateutil>=2.8.2 in /usr/local/lib/python3.11/dist-packages (from pandas) (2.9.0.post0)\n",
            "Requirement already satisfied: pytz>=2020.1 in /usr/local/lib/python3.11/dist-packages (from pandas) (2025.2)\n",
            "Requirement already satisfied: tzdata>=2022.7 in /usr/local/lib/python3.11/dist-packages (from pandas) (2025.2)\n",
            "Requirement already satisfied: et-xmlfile in /usr/local/lib/python3.11/dist-packages (from openpyxl) (2.0.0)\n",
            "Requirement already satisfied: six>=1.5 in /usr/local/lib/python3.11/dist-packages (from python-dateutil>=2.8.2->pandas) (1.17.0)\n"
          ]
        }
      ]
    },
    {
      "cell_type": "code",
      "source": [
        "import pandas as pd\n",
        "from openpyxl import load_workbook\n",
        "from openpyxl.styles import PatternFill\n",
        "\n",
        "# Step 1: Load and concatenate data\n",
        "df_2022 = pd.read_excel(\"2022_年間売上表.xlsx\", sheet_name=\"Sheet1\", engine=\"openpyxl\")\n",
        "df_2023 = pd.read_excel(\"2023_年間売上表.xlsx\", sheet_name=\"Sheet1\", engine=\"openpyxl\")\n",
        "df_all = pd.concat([df_2022, df_2023])\n",
        "\n",
        "# Group by 商品 and 売上年, then sum the 金額（千円）\n",
        "df_summary = df_all.groupby([\"商品\", \"売上年\"], as_index=False)[\"金額（千円）\"].sum()\n",
        "\n",
        "# Step 2: Write to new Excel file\n",
        "output_file = \"売上集計表.xlsx\"\n",
        "df_summary.to_excel(output_file, index=False)\n",
        "\n",
        "# Apply header formatting\n",
        "wb = load_workbook(output_file)\n",
        "ws = wb.active\n",
        "\n",
        "# Set header fill color to light gray (#F2F2F2)\n",
        "header_fill = PatternFill(start_color=\"F2F2F2\", end_color=\"F2F2F2\", fill_type=\"solid\")\n",
        "for cell in ws[1]:\n",
        "    cell.fill = header_fill\n",
        "\n",
        "# Save the formatted workbook\n",
        "wb.save(output_file)\n"
      ],
      "metadata": {
        "id": "YmUv3ncMUCQE"
      },
      "execution_count": 4,
      "outputs": []
    }
  ]
}